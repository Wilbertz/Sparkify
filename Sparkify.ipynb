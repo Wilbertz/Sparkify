{
 "cells": [
  {
   "cell_type": "markdown",
   "metadata": {},
   "source": [
    "# Sparkify Project Workspace\n",
    "This workspace contains a tiny subset (128MB) of the full dataset available (12GB). Feel free to use this workspace to build your project, or to explore a smaller subset with Spark before deploying your cluster on the cloud. Instructions for setting up your Spark cluster is included in the last lesson of the Extracurricular Spark Course content.\n",
    "\n",
    "You can follow the steps below to guide your data analysis and model building portion of this project."
   ]
  },
  {
   "cell_type": "code",
   "execution_count": 101,
   "metadata": {},
   "outputs": [],
   "source": [
    "# Import libraries\n",
    "from pyspark.sql import SparkSession\n",
    "from pyspark.sql.functions import udf, col, min as Fmin, max as Fmax, sum as Fsum, desc, avg\n",
    "from pyspark.sql.types import IntegerType, DateType, FloatType, DoubleType\n",
    "from pyspark.sql.window import Window\n",
    "from pyspark.ml.feature import VectorAssembler, MinMaxScaler \n",
    "from pyspark.ml.classification import LogisticRegression, RandomForestClassifier, LinearSVC, GBTClassifier, DecisionTreeClassifier\n",
    "from pyspark.ml.evaluation import BinaryClassificationEvaluator, MulticlassClassificationEvaluator\n",
    "from pyspark.ml.tuning import CrossValidator, ParamGridBuilder\n",
    "from sklearn.metrics import f1_score, precision_score, recall_score, accuracy_score\n",
    "import numpy as np\n",
    "import pandas as pd\n",
    "import datetime"
   ]
  },
  {
   "cell_type": "code",
   "execution_count": 2,
   "metadata": {},
   "outputs": [
    {
     "name": "stdout",
     "output_type": "stream",
     "text": [
      "root\n",
      " |-- artist: string (nullable = true)\n",
      " |-- auth: string (nullable = true)\n",
      " |-- firstName: string (nullable = true)\n",
      " |-- gender: string (nullable = true)\n",
      " |-- itemInSession: long (nullable = true)\n",
      " |-- lastName: string (nullable = true)\n",
      " |-- length: double (nullable = true)\n",
      " |-- level: string (nullable = true)\n",
      " |-- location: string (nullable = true)\n",
      " |-- method: string (nullable = true)\n",
      " |-- page: string (nullable = true)\n",
      " |-- registration: long (nullable = true)\n",
      " |-- sessionId: long (nullable = true)\n",
      " |-- song: string (nullable = true)\n",
      " |-- status: long (nullable = true)\n",
      " |-- ts: long (nullable = true)\n",
      " |-- userAgent: string (nullable = true)\n",
      " |-- userId: string (nullable = true)\n",
      "\n"
     ]
    }
   ],
   "source": [
    "# Create a Spark session\n",
    "spark = SparkSession.builder \\\n",
    "    .master(\"local\") \\\n",
    "    .appName(\"Sparkify Features\") \\\n",
    "    .getOrCreate()\n",
    "\n",
    "# Read data\n",
    "df = spark.read.json('mini_sparkify_event_data.json')\n",
    "\n",
    "# Print the schema information\n",
    "df.printSchema()"
   ]
  },
  {
   "cell_type": "markdown",
   "metadata": {},
   "source": [
    "# Load and Clean Dataset\n",
    "In this workspace, the mini-dataset file is `mini_sparkify_event_data.json`. Load and clean the dataset, checking for invalid or missing data - for example, records without userids or sessionids. "
   ]
  },
  {
   "cell_type": "code",
   "execution_count": 3,
   "metadata": {},
   "outputs": [
    {
     "name": "stdout",
     "output_type": "stream",
     "text": [
      "286500\n"
     ]
    }
   ],
   "source": [
    "# Get the size of the dataset\n",
    "print(df.count())"
   ]
  },
  {
   "cell_type": "code",
   "execution_count": 4,
   "metadata": {
    "scrolled": true
   },
   "outputs": [
    {
     "name": "stdout",
     "output_type": "stream",
     "text": [
      "Name: artist, Count Null: 58392, Count Empty: 0\n",
      "Name: auth, Count Null: 0, Count Empty: 0\n",
      "Name: firstName, Count Null: 8346, Count Empty: 0\n",
      "Name: gender, Count Null: 8346, Count Empty: 0\n",
      "Name: itemInSession, Count Null: 0, Count Empty: 0\n",
      "Name: lastName, Count Null: 8346, Count Empty: 0\n",
      "Name: length, Count Null: 58392, Count Empty: 0\n",
      "Name: level, Count Null: 0, Count Empty: 0\n",
      "Name: location, Count Null: 8346, Count Empty: 0\n",
      "Name: method, Count Null: 0, Count Empty: 0\n",
      "Name: page, Count Null: 0, Count Empty: 0\n",
      "Name: registration, Count Null: 8346, Count Empty: 0\n",
      "Name: sessionId, Count Null: 0, Count Empty: 0\n",
      "Name: song, Count Null: 58392, Count Empty: 0\n",
      "Name: status, Count Null: 0, Count Empty: 0\n",
      "Name: ts, Count Null: 0, Count Empty: 0\n",
      "Name: userAgent, Count Null: 8346, Count Empty: 0\n",
      "Name: userId, Count Null: 0, Count Empty: 8346\n"
     ]
    }
   ],
   "source": [
    "# Get an overview about null and empty fields\n",
    "for struct in df.schema:\n",
    "    name = struct.name\n",
    "    countNull = df.where(col(name).isNull()).count()\n",
    "    countEmpty  = df.where(col(name) == \"\").count()\n",
    "    print(\"Name: {0}, Count Null: {1}, Count Empty: {2}\".format(name, countNull, countEmpty))"
   ]
  },
  {
   "cell_type": "markdown",
   "metadata": {},
   "source": [
    "There are 8346 rows where the userId is empty. Since there are also 8346 rows where first name and last name is missing (probably the same rows) there exists no substitute for user id. Therefore these rows will be removed."
   ]
  },
  {
   "cell_type": "code",
   "execution_count": 5,
   "metadata": {},
   "outputs": [
    {
     "name": "stdout",
     "output_type": "stream",
     "text": [
      "User ID NULL count: 0\n"
     ]
    }
   ],
   "source": [
    "# Remove rows without userId\n",
    "df = df.filter(df.userId != \"\")\n",
    "\n",
    "# Check, that filter works\n",
    "print(\"User ID NULL count: {0}\".format(df.filter(df.userId == '').count()))"
   ]
  },
  {
   "cell_type": "code",
   "execution_count": 6,
   "metadata": {},
   "outputs": [
    {
     "name": "stdout",
     "output_type": "stream",
     "text": [
      "Name: artist, Count Null: 50046, Count Empty: 0\n",
      "Name: auth, Count Null: 0, Count Empty: 0\n",
      "Name: firstName, Count Null: 0, Count Empty: 0\n",
      "Name: gender, Count Null: 0, Count Empty: 0\n",
      "Name: itemInSession, Count Null: 0, Count Empty: 0\n",
      "Name: lastName, Count Null: 0, Count Empty: 0\n",
      "Name: length, Count Null: 50046, Count Empty: 0\n",
      "Name: level, Count Null: 0, Count Empty: 0\n",
      "Name: location, Count Null: 0, Count Empty: 0\n",
      "Name: method, Count Null: 0, Count Empty: 0\n",
      "Name: page, Count Null: 0, Count Empty: 0\n",
      "Name: registration, Count Null: 0, Count Empty: 0\n",
      "Name: sessionId, Count Null: 0, Count Empty: 0\n",
      "Name: song, Count Null: 50046, Count Empty: 0\n",
      "Name: status, Count Null: 0, Count Empty: 0\n",
      "Name: ts, Count Null: 0, Count Empty: 0\n",
      "Name: userAgent, Count Null: 0, Count Empty: 0\n",
      "Name: userId, Count Null: 0, Count Empty: 0\n"
     ]
    }
   ],
   "source": [
    "# Check for null and empty rows after cleaning\n",
    "\n",
    "for struct in df.schema:\n",
    "    name = struct.name\n",
    "    countNull = df.where(col(name).isNull()).count()\n",
    "    countEmpty  = df.where(col(name) == \"\").count()\n",
    "    print(\"Name: {0}, Count Null: {1}, Count Empty: {2}\".format(name, countNull, countEmpty))"
   ]
  },
  {
   "cell_type": "code",
   "execution_count": 7,
   "metadata": {},
   "outputs": [
    {
     "data": {
      "text/plain": [
       "[Row(artist=None, auth='Logged In', firstName='Colin', gender='M', itemInSession=54, lastName='Freeman', length=None, level='paid', location='Bakersfield, CA', method='PUT', page='Add to Playlist', registration=1538173362000, sessionId=29, song=None, status=200, ts=1538352905000, userAgent='Mozilla/5.0 (Windows NT 6.1; WOW64; rv:31.0) Gecko/20100101 Firefox/31.0', userId='30'),\n",
       " Row(artist=None, auth='Logged In', firstName='Micah', gender='M', itemInSession=84, lastName='Long', length=None, level='free', location='Boston-Cambridge-Newton, MA-NH', method='GET', page='Roll Advert', registration=1538331630000, sessionId=8, song=None, status=200, ts=1538353150000, userAgent='\"Mozilla/5.0 (Windows NT 6.1; WOW64) AppleWebKit/537.36 (KHTML, like Gecko) Chrome/37.0.2062.103 Safari/537.36\"', userId='9'),\n",
       " Row(artist=None, auth='Logged In', firstName='Micah', gender='M', itemInSession=86, lastName='Long', length=None, level='free', location='Boston-Cambridge-Newton, MA-NH', method='PUT', page='Thumbs Up', registration=1538331630000, sessionId=8, song=None, status=307, ts=1538353376000, userAgent='\"Mozilla/5.0 (Windows NT 6.1; WOW64) AppleWebKit/537.36 (KHTML, like Gecko) Chrome/37.0.2062.103 Safari/537.36\"', userId='9')]"
      ]
     },
     "execution_count": 7,
     "metadata": {},
     "output_type": "execute_result"
    }
   ],
   "source": [
    "# Get a sample of rows where artist is missing\n",
    "df.filter(df.artist.isNull()).head(3)"
   ]
  },
  {
   "cell_type": "markdown",
   "metadata": {},
   "source": [
    "There are still 50046 (17 %) rows, where essential information like artist or song is missing. Probably these are page hits that don't involve a song like landing page hits."
   ]
  },
  {
   "cell_type": "markdown",
   "metadata": {},
   "source": [
    "# Exploratory Data Analysis\n",
    "When you're working with the full dataset, perform EDA by loading a small subset of the data and doing basic manipulations within Spark. In this workspace, you are already provided a small subset of data you can explore.\n",
    "\n",
    "### Define Churn\n",
    "\n",
    "Once you've done some preliminary analysis, create a column `Churn` to use as the label for your model. I suggest using the `Cancellation Confirmation` events to define your churn, which happen for both paid and free users. As a bonus task, you can also look into the `Downgrade` events.\n",
    "\n",
    "### Explore Data\n",
    "Once you've defined churn, perform some exploratory data analysis to observe the behavior for users who stayed vs users who churned. You can start by exploring aggregates on these two groups of users, observing how much of a specific action they experienced per a certain time unit or number of songs played."
   ]
  },
  {
   "cell_type": "markdown",
   "metadata": {},
   "source": [
    "### Definition of Churn\n",
    "\n",
    "Within this project churn is defined as a cancellation of service. In case a \"Cancellation Confirmation\" event for a user is detected, this user is considered to have churned. There might \n",
    "be multiple cancellation confirmations, due to the fact, that a user reregistered after cancellations but cancelled again.\n",
    "\n",
    "Downgrades of service from paid to free tier are not considered as churn."
   ]
  },
  {
   "cell_type": "code",
   "execution_count": 8,
   "metadata": {},
   "outputs": [],
   "source": [
    "churn = udf(lambda x: int(x == 'Cancellation Confirmation'), IntegerType())\n",
    "downgrade_churn = udf(lambda x: int(x == 'Submit Downgrade'), IntegerType())\n",
    "\n",
    "df = df.withColumn(\"downgraded\", downgrade_churn(\"page\")).withColumn(\"cancelled\", churn(\"page\"))"
   ]
  },
  {
   "cell_type": "markdown",
   "metadata": {},
   "source": [
    "### Exploration of Data"
   ]
  },
  {
   "cell_type": "code",
   "execution_count": 9,
   "metadata": {},
   "outputs": [],
   "source": [
    "# Now we compute the number of users that downgraded or cancelled. \n",
    "# There might be multiple downgrade events, hence the signum function is used. \n",
    "\n",
    "signum = udf(lambda x: int(x>0), IntegerType())\n",
    "\n",
    "# The status of each user\n",
    "user_status = df.select([\"userId\", \"downgraded\", \"cancelled\"]) \\\n",
    "    .groupby(\"userId\").sum() \n",
    "\n",
    "user_status = user_status \\\n",
    "    .withColumn('downgraded', signum(col(\"sum(downgraded)\"))) \\\n",
    "    .withColumn('cancelled', signum(col(\"sum(cancelled)\")))"
   ]
  },
  {
   "cell_type": "code",
   "execution_count": 10,
   "metadata": {},
   "outputs": [
    {
     "name": "stdout",
     "output_type": "stream",
     "text": [
      "+------+---------------+--------------+----------+---------+\n",
      "|userId|sum(downgraded)|sum(cancelled)|downgraded|cancelled|\n",
      "+------+---------------+--------------+----------+---------+\n",
      "|100010|              0|             0|         0|        0|\n",
      "|200002|              0|             0|         0|        0|\n",
      "|   125|              0|             1|         0|        1|\n",
      "|    51|              0|             1|         0|        1|\n",
      "|   124|              0|             0|         0|        0|\n",
      "+------+---------------+--------------+----------+---------+\n",
      "only showing top 5 rows\n",
      "\n"
     ]
    }
   ],
   "source": [
    "# A quick check, that the previous functions work\n",
    "user_status.show(5)"
   ]
  },
  {
   "cell_type": "code",
   "execution_count": 11,
   "metadata": {},
   "outputs": [
    {
     "name": "stdout",
     "output_type": "stream",
     "text": [
      "Min timestamp = Mon Oct  1 00:01:57 2018\n",
      "Max timestamp = Mon Dec  3 01:11:16 2018\n"
     ]
    }
   ],
   "source": [
    "# Get the time intervall of the data\n",
    "# Used some stuff from the following website: https://databricks.com/blog/2015/09/16/apache-spark-1-5-dataframe-api-highlights.html\n",
    "\n",
    "print( 'Min timestamp = ' + str( datetime.datetime.utcfromtimestamp( df.agg(Fmin(col(\"ts\"))).collect()[0][0]/1000  ).strftime('%c') ) )\n",
    "print( 'Max timestamp = ' + str( datetime.datetime.utcfromtimestamp( df.agg(Fmax(col(\"ts\"))).collect()[0][0]/1000  ).strftime('%c') ) )"
   ]
  },
  {
   "cell_type": "markdown",
   "metadata": {},
   "source": [
    "The data set contains data for 63 days, around 2 months."
   ]
  },
  {
   "cell_type": "code",
   "execution_count": 13,
   "metadata": {},
   "outputs": [],
   "source": [
    "# Create a more human friendly time column\n",
    "\n",
    "get_date_time = udf(lambda x: datetime.datetime.fromtimestamp(x / 1000.0).strftime(\"%Y-%m-%d %H:%M:%S\"))\n",
    "df = df.withColumn(\"date_time\", get_date_time(df.ts))"
   ]
  },
  {
   "cell_type": "code",
   "execution_count": 14,
   "metadata": {},
   "outputs": [
    {
     "data": {
      "text/plain": [
       "225"
      ]
     },
     "execution_count": 14,
     "metadata": {},
     "output_type": "execute_result"
    }
   ],
   "source": [
    "# Get the number of users\n",
    "df.select(\"userId\").dropDuplicates().count()"
   ]
  },
  {
   "cell_type": "code",
   "execution_count": 15,
   "metadata": {},
   "outputs": [
    {
     "data": {
      "text/plain": [
       "2312"
      ]
     },
     "execution_count": 15,
     "metadata": {},
     "output_type": "execute_result"
    }
   ],
   "source": [
    "# Get the number of sessions\n",
    "\n",
    "df.select(\"sessionId\").dropDuplicates().count()"
   ]
  },
  {
   "cell_type": "code",
   "execution_count": 16,
   "metadata": {},
   "outputs": [
    {
     "name": "stdout",
     "output_type": "stream",
     "text": [
      "+-----+------+\n",
      "|level| count|\n",
      "+-----+------+\n",
      "| paid|222433|\n",
      "| free| 55721|\n",
      "+-----+------+\n",
      "\n"
     ]
    }
   ],
   "source": [
    "# Get the amount of events for the different levels\n",
    "df.groupby('level').count().sort('count', ascending = False).show()"
   ]
  },
  {
   "cell_type": "markdown",
   "metadata": {},
   "source": [
    "There around 4 times more events for paid users than for free users. Paid users are much more active."
   ]
  },
  {
   "cell_type": "code",
   "execution_count": 17,
   "metadata": {},
   "outputs": [
    {
     "name": "stdout",
     "output_type": "stream",
     "text": [
      "+------+------+\n",
      "|gender| count|\n",
      "+------+------+\n",
      "|     F|154578|\n",
      "|     M|123576|\n",
      "+------+------+\n",
      "\n"
     ]
    }
   ],
   "source": [
    "# Get the gender distribution\n",
    "df.groupby('gender').count().sort('count', ascending = False).show()"
   ]
  },
  {
   "cell_type": "markdown",
   "metadata": {},
   "source": [
    "We have more or less the same amount of events for male and female users."
   ]
  },
  {
   "cell_type": "code",
   "execution_count": 18,
   "metadata": {},
   "outputs": [
    {
     "name": "stdout",
     "output_type": "stream",
     "text": [
      "+--------------------+------+\n",
      "|                page| count|\n",
      "+--------------------+------+\n",
      "|            NextSong|228108|\n",
      "|           Thumbs Up| 12551|\n",
      "|                Home| 10082|\n",
      "|     Add to Playlist|  6526|\n",
      "|          Add Friend|  4277|\n",
      "|         Roll Advert|  3933|\n",
      "|              Logout|  3226|\n",
      "|         Thumbs Down|  2546|\n",
      "|           Downgrade|  2055|\n",
      "|            Settings|  1514|\n",
      "|                Help|  1454|\n",
      "|             Upgrade|   499|\n",
      "|               About|   495|\n",
      "|       Save Settings|   310|\n",
      "|               Error|   252|\n",
      "|      Submit Upgrade|   159|\n",
      "|    Submit Downgrade|    63|\n",
      "|              Cancel|    52|\n",
      "|Cancellation Conf...|    52|\n",
      "+--------------------+------+\n",
      "\n"
     ]
    }
   ],
   "source": [
    "# Get the page distribution\n",
    "df.groupby('page').count().sort('count', ascending = False).show()"
   ]
  },
  {
   "cell_type": "markdown",
   "metadata": {},
   "source": [
    "The number of cancelations is quite low, only 52. "
   ]
  },
  {
   "cell_type": "code",
   "execution_count": 19,
   "metadata": {},
   "outputs": [
    {
     "name": "stdout",
     "output_type": "stream",
     "text": [
      "+---------------+--------------+\n",
      "|sum(downgraded)|sum(cancelled)|\n",
      "+---------------+--------------+\n",
      "|             49|            52|\n",
      "+---------------+--------------+\n",
      "\n"
     ]
    }
   ],
   "source": [
    "user_status.agg({ 'downgraded' : 'sum', 'cancelled': 'sum'}).show()"
   ]
  },
  {
   "cell_type": "markdown",
   "metadata": {},
   "source": [
    "Aggregating rows does not change the number of cancellations. The number of downgrades is 49.\n",
    "\n",
    "The total number of unique users is 225. Therefore 21.7% of users downgraded and 23% cancelled."
   ]
  },
  {
   "cell_type": "code",
   "execution_count": 20,
   "metadata": {},
   "outputs": [
    {
     "name": "stdout",
     "output_type": "stream",
     "text": [
      "Number of songs: 58481\n",
      "Number of artists: 17656\n"
     ]
    }
   ],
   "source": [
    "# Number of songs and artists\n",
    "\n",
    "print( 'Number of songs: ' + str(df.select(\"song\").drop_duplicates().count()))\n",
    "print( 'Number of artists: ' + str(df.select(\"artist\").drop_duplicates().count()))"
   ]
  },
  {
   "cell_type": "code",
   "execution_count": 21,
   "metadata": {},
   "outputs": [],
   "source": [
    "# Use the spark windowing functions for data analysis.\n",
    "window = Window.partitionBy(\"userId\").orderBy(desc(\"ts\")).rangeBetween(Window.unboundedPreceding, 0)"
   ]
  },
  {
   "cell_type": "code",
   "execution_count": 22,
   "metadata": {},
   "outputs": [],
   "source": [
    "# Using the window function defined above, we can estimate the churn phase\n",
    "\n",
    "df = df.withColumn(\"churn_phase\", Fsum(\"cancelled\").over(window))\\\n",
    "    .withColumn(\"downgrade_phase\", Fsum(\"downgraded\").over(window))"
   ]
  },
  {
   "cell_type": "code",
   "execution_count": 24,
   "metadata": {},
   "outputs": [
    {
     "data": {
      "text/plain": [
       "[Row(artist=None, auth='Logged In', firstName='Darianna', gender='F', itemInSession=34, lastName='Carpenter', length=None, level='free', location='Bridgeport-Stamford-Norwalk, CT', method='PUT', page='Logout', registration=1538016340000, sessionId=187, song=None, status=307, ts=1542823952000, userAgent='\"Mozilla/5.0 (iPhone; CPU iPhone OS 7_1_2 like Mac OS X) AppleWebKit/537.51.2 (KHTML, like Gecko) Version/7.0 Mobile/11D257 Safari/9537.53\"', userId='100010', downgraded=0, cancelled=0, date_time='2018-11-21 18:12:32', churn_phase=0, downgrade_phase=0),\n",
       " Row(artist='Lily Allen', auth='Logged In', firstName='Darianna', gender='F', itemInSession=33, lastName='Carpenter', length=185.25995, level='free', location='Bridgeport-Stamford-Norwalk, CT', method='PUT', page='NextSong', registration=1538016340000, sessionId=187, song='22', status=200, ts=1542823951000, userAgent='\"Mozilla/5.0 (iPhone; CPU iPhone OS 7_1_2 like Mac OS X) AppleWebKit/537.51.2 (KHTML, like Gecko) Version/7.0 Mobile/11D257 Safari/9537.53\"', userId='100010', downgraded=0, cancelled=0, date_time='2018-11-21 18:12:31', churn_phase=0, downgrade_phase=0),\n",
       " Row(artist='John Waite', auth='Logged In', firstName='Darianna', gender='F', itemInSession=32, lastName='Carpenter', length=269.76608, level='free', location='Bridgeport-Stamford-Norwalk, CT', method='PUT', page='NextSong', registration=1538016340000, sessionId=187, song='Missing You', status=200, ts=1542823682000, userAgent='\"Mozilla/5.0 (iPhone; CPU iPhone OS 7_1_2 like Mac OS X) AppleWebKit/537.51.2 (KHTML, like Gecko) Version/7.0 Mobile/11D257 Safari/9537.53\"', userId='100010', downgraded=0, cancelled=0, date_time='2018-11-21 18:08:02', churn_phase=0, downgrade_phase=0)]"
      ]
     },
     "execution_count": 24,
     "metadata": {},
     "output_type": "execute_result"
    }
   ],
   "source": [
    "# A quick check, that the function worked.\n",
    "\n",
    "df.head(3)"
   ]
  },
  {
   "cell_type": "code",
   "execution_count": 25,
   "metadata": {},
   "outputs": [],
   "source": [
    "# Define an udf, that counts songs \n",
    "\n",
    "song = udf(lambda x : int(x=='NextSong'), IntegerType())"
   ]
  },
  {
   "cell_type": "code",
   "execution_count": 26,
   "metadata": {},
   "outputs": [
    {
     "name": "stdout",
     "output_type": "stream",
     "text": [
      "+------------------+\n",
      "|   avg(songPlayed)|\n",
      "+------------------+\n",
      "|0.8112072039942939|\n",
      "+------------------+\n",
      "\n",
      "+------------------+\n",
      "|   avg(songPlayed)|\n",
      "+------------------+\n",
      "|0.8217840456084702|\n",
      "+------------------+\n",
      "\n"
     ]
    }
   ],
   "source": [
    "# Can we detect any difference with respect to the number of songs played between the 2 groups.\n",
    "\n",
    "df.filter(col('churn_phase')==1).withColumn('songPlayed', song(col('page'))).agg({'songPlayed':'mean'}).show()\n",
    "df.filter(col('churn_phase')==0).withColumn('songPlayed', song(col('page'))).agg({'songPlayed':'mean'}).show()"
   ]
  },
  {
   "cell_type": "code",
   "execution_count": 27,
   "metadata": {},
   "outputs": [],
   "source": [
    "# Is there any difference on the number of songs played per day ? An additional udf is defined.\n",
    "\n",
    "get_day = udf(lambda x: datetime.datetime.fromtimestamp(x/1000), DateType())"
   ]
  },
  {
   "cell_type": "code",
   "execution_count": 28,
   "metadata": {
    "scrolled": true
   },
   "outputs": [
    {
     "name": "stdout",
     "output_type": "stream",
     "text": [
      "+-------+-----------------+-----------------+\n",
      "|summary|           userId|            count|\n",
      "+-------+-----------------+-----------------+\n",
      "|  count|              499|              499|\n",
      "|   mean|77394.81563126252|72.93386773547094|\n",
      "| stddev|90869.89716037885|71.24764235703725|\n",
      "|    min|           100001|                1|\n",
      "|    max|               87|              346|\n",
      "+-------+-----------------+-----------------+\n",
      "\n",
      "+-------+------------------+-----------------+\n",
      "|summary|            userId|            count|\n",
      "+-------+------------------+-----------------+\n",
      "|  count|              2559|             2559|\n",
      "|   mean| 64501.19812426729|74.91754591637358|\n",
      "| stddev|114144.74005493976|74.02407951472078|\n",
      "|    min|                10|                1|\n",
      "|    max|                99|              360|\n",
      "+-------+------------------+-----------------+\n",
      "\n"
     ]
    }
   ],
   "source": [
    "# Use the get_day udf to get the number of songs per day\n",
    "\n",
    "df.filter((df.page=='NextSong')&(col('churn_phase')==1)).select('userId', 'page', 'ts')\\\n",
    "    .withColumn('date', get_day(col('ts'))).groupBy('userId', 'date').count().describe().show()\n",
    "\n",
    "df.filter((df.page=='NextSong')&(col('churn_phase')==0)).select('userId', 'page', 'ts')\\\n",
    "    .withColumn('date', get_day(col('ts'))).groupBy('userId', 'date').count().describe().show()"
   ]
  },
  {
   "cell_type": "markdown",
   "metadata": {},
   "source": [
    "There seems to be a difference between the number of songs per day, this is a candidate for a feature."
   ]
  },
  {
   "cell_type": "code",
   "execution_count": 29,
   "metadata": {},
   "outputs": [
    {
     "name": "stdout",
     "output_type": "stream",
     "text": [
      "+-----------+\n",
      "|avg(length)|\n",
      "+-----------+\n",
      "|       null|\n",
      "+-----------+\n",
      "\n",
      "+-----------------+\n",
      "|      avg(length)|\n",
      "+-----------------+\n",
      "|249.1171819778458|\n",
      "+-----------------+\n",
      "\n"
     ]
    }
   ],
   "source": [
    "# Is the listening length a useful feature ?\n",
    "\n",
    "df.filter(col('cancelled')==1).agg({'length':'mean'}).show()\n",
    "df.filter(col('cancelled')==0).agg({'length':'mean'}).show()"
   ]
  },
  {
   "cell_type": "code",
   "execution_count": 46,
   "metadata": {},
   "outputs": [
    {
     "name": "stdout",
     "output_type": "stream",
     "text": [
      "49 52\n"
     ]
    }
   ],
   "source": [
    "# Get the number of users who downgraded or cancelled\n",
    "\n",
    "print(df.filter(col('downgraded')==1).select('userId').dropDuplicates().count(), \n",
    "      df.filter(col('cancelled')==1).select('userId').dropDuplicates().count())"
   ]
  },
  {
   "cell_type": "markdown",
   "metadata": {},
   "source": [
    "49 users downgraded and 52 users cancelled."
   ]
  },
  {
   "cell_type": "code",
   "execution_count": 47,
   "metadata": {},
   "outputs": [
    {
     "data": {
      "text/plain": [
       "9"
      ]
     },
     "execution_count": 47,
     "metadata": {},
     "output_type": "execute_result"
    }
   ],
   "source": [
    "# Get the number of users who downgraded and cancelled\n",
    "\n",
    "df.select(['userId', 'downgraded', 'cancelled'])\\\n",
    "    .groupBy('userId').sum()\\\n",
    "    .withColumnRenamed('sum(downgraded)', 'downgraded')\\\n",
    "    .withColumnRenamed('sum(cancelled)', 'cancelled')\\\n",
    "    .filter((col(\"downgraded\")==1)&(col(\"cancelled\")==1))\\\n",
    "    .count()"
   ]
  },
  {
   "cell_type": "code",
   "execution_count": 30,
   "metadata": {},
   "outputs": [
    {
     "name": "stdout",
     "output_type": "stream",
     "text": [
      "+----------+-----+\n",
      "|downgraded|count|\n",
      "+----------+-----+\n",
      "|         1|    9|\n",
      "|         0|   43|\n",
      "+----------+-----+\n",
      "\n"
     ]
    }
   ],
   "source": [
    "# Do users typically downgrade before cancelling ? Is downgrading a predictor of cancelling ?\n",
    "\n",
    "user_status.where(col(\"cancelled\") == 1).groupby(\"downgraded\").count().show()"
   ]
  },
  {
   "cell_type": "code",
   "execution_count": 50,
   "metadata": {},
   "outputs": [
    {
     "name": "stdout",
     "output_type": "stream",
     "text": [
      "31\n"
     ]
    }
   ],
   "source": [
    "# The number of paid users that cancelled\n",
    "\n",
    "print(df.filter((col('cancelled')==1) & (col('level')=='paid'))\\\n",
    "      .select('userId').dropDuplicates().count())"
   ]
  },
  {
   "cell_type": "code",
   "execution_count": 51,
   "metadata": {},
   "outputs": [
    {
     "name": "stdout",
     "output_type": "stream",
     "text": [
      "21\n"
     ]
    }
   ],
   "source": [
    "# The number of free users that cancelled\n",
    "\n",
    "print(df.filter((col('cancelled')==1) & (col('level')=='free'))\\\n",
    "      .select('userId').dropDuplicates().count())"
   ]
  },
  {
   "cell_type": "code",
   "execution_count": 48,
   "metadata": {},
   "outputs": [
    {
     "data": {
      "text/plain": [
       "43"
      ]
     },
     "execution_count": 48,
     "metadata": {},
     "output_type": "execute_result"
    }
   ],
   "source": [
    "# The number of users that cancelled without a downgrade\n",
    "\n",
    "df.select(['userId', 'downgraded', 'cancelled'])\\\n",
    "    .groupBy('userId').sum()\\\n",
    "    .withColumnRenamed('sum(downgraded)', 'downgraded')\\\n",
    "    .withColumnRenamed('sum(cancelled)', 'cancelled')\\\n",
    "    .filter((col(\"downgraded\")==0)&(col(\"cancelled\")==1))\\\n",
    "    .count()"
   ]
  },
  {
   "cell_type": "markdown",
   "metadata": {},
   "source": [
    "Summary of downgrading and cancelling:\n",
    "\n",
    "49 users downgraded and 52 users cancelled.\n",
    "\n",
    "In case of the 52 users who cancelled, 9 downgraded before cancelling, 43 cancelled without a downgrade.\n",
    "In case of the 52 users who cancelled, 31 are paid users, 21 are free users."
   ]
  },
  {
   "cell_type": "code",
   "execution_count": 31,
   "metadata": {},
   "outputs": [
    {
     "name": "stdout",
     "output_type": "stream",
     "text": [
      "+------+---------------+-------------------+-----+--------------------+---------+\n",
      "|userId|           page|          date_time|level|                song|sessionId|\n",
      "+------+---------------+-------------------+-----+--------------------+---------+\n",
      "|    30|       NextSong|2018-10-01 00:01:57| paid|           Rockpools|       29|\n",
      "|    30|       NextSong|2018-10-01 00:06:34| paid|   Time For Miracles|       29|\n",
      "|    30|       NextSong|2018-10-01 00:11:16| paid|Harder Better Fas...|       29|\n",
      "|    30|       NextSong|2018-10-01 00:14:59| paid|Passengers (Old A...|       29|\n",
      "|    30|Add to Playlist|2018-10-01 00:15:05| paid|                null|       29|\n",
      "|    30|       NextSong|2018-10-01 00:18:04| paid|          Fuck Kitty|       29|\n",
      "|    30|       NextSong|2018-10-01 00:20:18| paid|                Jade|       29|\n",
      "|    30|       NextSong|2018-10-01 00:24:01| paid|   So-Called Friends|       29|\n",
      "|    30|       NextSong|2018-10-01 00:28:07| paid|           Represent|       29|\n",
      "|    30|       NextSong|2018-10-01 00:31:49| paid|           Here I Am|       29|\n",
      "|    30|       NextSong|2018-10-01 00:35:32| paid|Rebirthing (Album...|       29|\n",
      "|    30|       NextSong|2018-10-01 00:39:25| paid|Dog Days Are Over...|       29|\n",
      "|    30|       NextSong|2018-10-01 00:43:04| paid|Tomorrow Is A Lon...|       29|\n",
      "|    30|       NextSong|2018-10-01 00:46:46| paid|    Halloween Spooks|       29|\n",
      "|    30|       NextSong|2018-10-01 00:49:05| paid|            Stronger|       29|\n",
      "|    30|       NextSong|2018-10-01 00:54:16| paid|   Dis Iz Brick City|       29|\n",
      "|    30|       NextSong|2018-10-01 00:57:53| paid|          Move Along|       29|\n",
      "|    30|       NextSong|2018-10-01 01:01:51| paid|           Manhattan|       29|\n",
      "|    30|       NextSong|2018-10-01 01:05:15| paid|                Undo|       29|\n",
      "|    30|       NextSong|2018-10-01 01:11:03| paid|     The Big Gundown|       29|\n",
      "|    30|       NextSong|2018-10-01 01:15:23| paid|          Black Bird|       29|\n",
      "|    30|    Thumbs Down|2018-10-01 01:15:24| paid|                null|       29|\n",
      "|    30|       NextSong|2018-10-01 01:18:27| paid|              Nausea|       29|\n",
      "|    30|       NextSong|2018-10-01 01:21:43| paid|           Matricide|       29|\n",
      "|    30|       NextSong|2018-10-01 01:27:03| paid|             Valerie|       29|\n",
      "+------+---------------+-------------------+-----+--------------------+---------+\n",
      "only showing top 25 rows\n",
      "\n"
     ]
    }
   ],
   "source": [
    "# Look at the session data of some random user\n",
    "\n",
    "df.select([\"userId\", \"page\", \"date_time\", \"level\", \"song\", \"sessionId\"]).where(df.userId == \"30\").sort(\"date_time\").show(25)"
   ]
  },
  {
   "cell_type": "code",
   "execution_count": 32,
   "metadata": {},
   "outputs": [],
   "source": [
    "# Addtional columns dealing with date and time, for consistency redefinition of get_day udf\n",
    "\n",
    "get_hour = udf(lambda x: datetime.datetime.fromtimestamp(x / 1000.0).hour)\n",
    "df = df.withColumn(\"hour\", get_hour(df.ts))\n",
    "\n",
    "get_weekday = udf(lambda x: datetime.datetime.fromtimestamp(x / 1000.0).strftime(\"%w\"))\n",
    "df = df.withColumn(\"weekday\", get_weekday(df.ts))\n",
    "\n",
    "get_day = udf(lambda x: datetime.datetime.fromtimestamp(x / 1000.0).day)\n",
    "df = df.withColumn(\"day\", get_day(df.ts))"
   ]
  },
  {
   "cell_type": "code",
   "execution_count": 34,
   "metadata": {},
   "outputs": [
    {
     "name": "stdout",
     "output_type": "stream",
     "text": [
      "+------+---------------+-------+---+----+-----+--------------------+---------+\n",
      "|userId|           page|weekday|day|hour|level|                song|sessionId|\n",
      "+------+---------------+-------+---+----+-----+--------------------+---------+\n",
      "|    30|       NextSong|      1|  1|   0| paid|           Rockpools|       29|\n",
      "|    30|       NextSong|      1|  1|   0| paid|   Time For Miracles|       29|\n",
      "|    30|       NextSong|      1|  1|   0| paid|Harder Better Fas...|       29|\n",
      "|    30|       NextSong|      1|  1|   0| paid|Passengers (Old A...|       29|\n",
      "|    30|Add to Playlist|      1|  1|   0| paid|                null|       29|\n",
      "|    30|       NextSong|      1|  1|   0| paid|          Fuck Kitty|       29|\n",
      "|    30|       NextSong|      1|  1|   0| paid|                Jade|       29|\n",
      "|    30|       NextSong|      1|  1|   0| paid|   So-Called Friends|       29|\n",
      "|    30|       NextSong|      1|  1|   0| paid|           Represent|       29|\n",
      "|    30|       NextSong|      1|  1|   0| paid|           Here I Am|       29|\n",
      "|    30|       NextSong|      1|  1|   0| paid|Rebirthing (Album...|       29|\n",
      "|    30|       NextSong|      1|  1|   0| paid|Dog Days Are Over...|       29|\n",
      "|    30|       NextSong|      1|  1|   0| paid|Tomorrow Is A Lon...|       29|\n",
      "|    30|       NextSong|      1|  1|   0| paid|    Halloween Spooks|       29|\n",
      "|    30|       NextSong|      1|  1|   0| paid|            Stronger|       29|\n",
      "|    30|       NextSong|      1|  1|   0| paid|   Dis Iz Brick City|       29|\n",
      "|    30|       NextSong|      1|  1|   0| paid|          Move Along|       29|\n",
      "|    30|       NextSong|      1|  1|   1| paid|           Manhattan|       29|\n",
      "|    30|       NextSong|      1|  1|   1| paid|                Undo|       29|\n",
      "|    30|       NextSong|      1|  1|   1| paid|     The Big Gundown|       29|\n",
      "|    30|       NextSong|      1|  1|   1| paid|          Black Bird|       29|\n",
      "|    30|    Thumbs Down|      1|  1|   1| paid|                null|       29|\n",
      "|    30|       NextSong|      1|  1|   1| paid|              Nausea|       29|\n",
      "|    30|       NextSong|      1|  1|   1| paid|           Matricide|       29|\n",
      "|    30|       NextSong|      1|  1|   1| paid|             Valerie|       29|\n",
      "+------+---------------+-------+---+----+-----+--------------------+---------+\n",
      "only showing top 25 rows\n",
      "\n"
     ]
    }
   ],
   "source": [
    "# Look again at the same user data\n",
    "\n",
    "df.select([\"userId\", \"page\", \"weekday\", \"day\", \"hour\", \"level\", \"song\", \"sessionId\"]).where(df.userId == \"30\").sort(\"date_time\").show(25)"
   ]
  },
  {
   "cell_type": "code",
   "execution_count": 35,
   "metadata": {},
   "outputs": [],
   "source": [
    "# Exporting data to a csv file.\n",
    "\n",
    "df.select([\"userId\", \"page\", \"weekday\", \"day\", \"hour\", \"level\", \"song\", \"sessionId\"]).where(df.userId == \"30\").sort(\"date_time\").toPandas().to_csv(\"user.csv\")\n"
   ]
  },
  {
   "cell_type": "code",
   "execution_count": 37,
   "metadata": {},
   "outputs": [],
   "source": [
    "def plot_usage_rate_versus_time(time): \n",
    "    \"\"\"\n",
    "    Plot usage of service against different time units.\n",
    "    \"\"\"\n",
    "    df_pd = df.filter(df.page == \"NextSong\").groupby(\"churn_phase\", time).count().orderBy(df[time].cast(\"float\")).toPandas()\n",
    "    df_pd[time] = pd.to_numeric(df_pd[time])\n",
    "    df_pd[df_pd.churn_phase==0].plot.bar(x=time, y='count', color='Green', label='No churn')\n",
    "    df_pd[df_pd.churn_phase==1].plot.bar(x=time, y='count', color='Red', label='Churn')"
   ]
  },
  {
   "cell_type": "code",
   "execution_count": 39,
   "metadata": {},
   "outputs": [
    {
     "data": {
      "image/png": "[encoded data removed]",
      "text/plain": [
       "<matplotlib.figure.Figure at 0x7fd310c2dc50>"
      ]
     },
     "metadata": {
      "needs_background": "light"
     },
     "output_type": "display_data"
    },
    {
     "data": {
      "image/png": "[encoded data removed]",
      "text/plain": [
       "<matplotlib.figure.Figure at 0x7fd310bd10b8>"
      ]
     },
     "metadata": {
      "needs_background": "light"
     },
     "output_type": "display_data"
    }
   ],
   "source": [
    "# Is there any difference accross hours ?\n",
    "\n",
    "plot_usage_rate_versus_time(\"hour\")"
   ]
  },
  {
   "cell_type": "code",
   "execution_count": 40,
   "metadata": {},
   "outputs": [
    {
     "data": {
      "image/png": "[encoded data removed]",
      "text/plain": [
       "<matplotlib.figure.Figure at 0x7fd310b77438>"
      ]
     },
     "metadata": {
      "needs_background": "light"
     },
     "output_type": "display_data"
    },
    {
     "data": {
      "image/png": "[encoded data removed]",
      "text/plain": [
       "<matplotlib.figure.Figure at 0x7fd310abe2e8>"
      ]
     },
     "metadata": {
      "needs_background": "light"
     },
     "output_type": "display_data"
    }
   ],
   "source": [
    "# Is there any difference accross days of the week ?\n",
    "\n",
    "plot_usage_rate_versus_time(\"weekday\")"
   ]
  },
  {
   "cell_type": "code",
   "execution_count": 41,
   "metadata": {},
   "outputs": [
    {
     "data": {
      "image/png": "[encoded data removed]",
      "text/plain": [
       "<matplotlib.figure.Figure at 0x7fd310a07748>"
      ]
     },
     "metadata": {
      "needs_background": "light"
     },
     "output_type": "display_data"
    },
    {
     "data": {
      "image/png": "[encoded data removed]",
      "text/plain": [
       "<matplotlib.figure.Figure at 0x7fd3108eecf8>"
      ]
     },
     "metadata": {
      "needs_background": "light"
     },
     "output_type": "display_data"
    }
   ],
   "source": [
    "# Is there any difference accross the month ?\n",
    "\n",
    "plot_usage_rate_versus_time(\"day\")"
   ]
  },
  {
   "cell_type": "markdown",
   "metadata": {},
   "source": [
    "There is a significant difference between the 2 data sets plotted againt the day of the month."
   ]
  },
  {
   "cell_type": "code",
   "execution_count": 42,
   "metadata": {},
   "outputs": [],
   "source": [
    "# Thumbs up and thumbs down per user and day\n",
    "\n",
    "thumbs_up_perday_avg = df.filter(df.page=='Thumbs Up')\\\n",
    "        .select('userId', 'page', 'ts')\\\n",
    "        .withColumn('date', get_day(col('ts')))\\\n",
    "        .groupBy('userId', 'date').agg({'page':'count'}).groupBy('userId')\\\n",
    "        .mean() \\\n",
    "        .withColumnRenamed('avg(count(page))', 'thumbs_up_perday_avg')\n",
    "    \n",
    "thumbs_down_perday_avg = df.filter(df.page=='Thumbs Down')\\\n",
    "        .select('userId', 'page', 'ts')\\\n",
    "        .withColumn('date', get_day(col('ts')))\\\n",
    "        .groupBy('userId', 'date').agg({'page':'count'}).groupBy('userId')\\\n",
    "        .mean() \\\n",
    "        .withColumnRenamed('avg(count(page))', 'thumbs_down_perday_avg')"
   ]
  },
  {
   "cell_type": "code",
   "execution_count": 44,
   "metadata": {},
   "outputs": [
    {
     "data": {
      "text/plain": [
       "[Row(userId='100010', thumbs_up_perday_avg=2.8333333333333335),\n",
       " Row(userId='200002', thumbs_up_perday_avg=3.0),\n",
       " Row(userId='124', thumbs_up_perday_avg=7.125),\n",
       " Row(userId='51', thumbs_up_perday_avg=8.333333333333334),\n",
       " Row(userId='7', thumbs_up_perday_avg=1.75)]"
      ]
     },
     "execution_count": 44,
     "metadata": {},
     "output_type": "execute_result"
    }
   ],
   "source": [
    "# Get the first few rows of the result\n",
    "\n",
    "thumbs_up_perday_avg.head(5)"
   ]
  },
  {
   "cell_type": "code",
   "execution_count": 45,
   "metadata": {},
   "outputs": [
    {
     "data": {
      "text/plain": [
       "[Row(userId='100010', thumbs_down_perday_avg=1.25),\n",
       " Row(userId='200002', thumbs_down_perday_avg=3.0),\n",
       " Row(userId='124', thumbs_down_perday_avg=2.1578947368421053),\n",
       " Row(userId='51', thumbs_down_perday_avg=2.1),\n",
       " Row(userId='7', thumbs_down_perday_avg=1.0)]"
      ]
     },
     "execution_count": 45,
     "metadata": {},
     "output_type": "execute_result"
    }
   ],
   "source": [
    "# Get the first few rows of the result\n",
    "\n",
    "thumbs_down_perday_avg.head(5)"
   ]
  },
  {
   "cell_type": "markdown",
   "metadata": {},
   "source": [
    "# Feature Engineering\n",
    "Once you've familiarized yourself with the data, build out the features you find promising to train your model on. To work with the full dataset, you can follow the following steps.\n",
    "- Write a script to extract the necessary features from the smaller subset of data\n",
    "- Ensure that your script is scalable, using the best practices discussed in Lesson 3\n",
    "- Try your script on the full data set, debugging your script if necessary\n",
    "\n",
    "If you are working in the classroom workspace, you can just extract features based on the small subset of data contained here. Be sure to transfer over this work to the larger dataset when you work on your Spark cluster."
   ]
  },
  {
   "cell_type": "markdown",
   "metadata": {},
   "source": [
    "### Feature 1: Session Count"
   ]
  },
  {
   "cell_type": "code",
   "execution_count": 52,
   "metadata": {},
   "outputs": [],
   "source": [
    "# Feature 1: Session Count\n",
    "    \n",
    "session_count = df.select(\"userId\", \"sessionId\").dropDuplicates().groupby(\"userId\").count()\n",
    "session_count = session_count.withColumnRenamed(\"count\", \"session_count\")    "
   ]
  },
  {
   "cell_type": "code",
   "execution_count": 53,
   "metadata": {},
   "outputs": [
    {
     "name": "stdout",
     "output_type": "stream",
     "text": [
      "+------+-------------+\n",
      "|userId|session_count|\n",
      "+------+-------------+\n",
      "|100010|            7|\n",
      "|200002|            6|\n",
      "|   125|            1|\n",
      "|    51|           10|\n",
      "|   124|           29|\n",
      "|     7|            7|\n",
      "|    54|           37|\n",
      "|    15|           15|\n",
      "|   155|            6|\n",
      "|100014|            6|\n",
      "+------+-------------+\n",
      "only showing top 10 rows\n",
      "\n"
     ]
    }
   ],
   "source": [
    "session_count.show(10)"
   ]
  },
  {
   "cell_type": "markdown",
   "metadata": {},
   "source": [
    "### Feature 2: Songs per Session"
   ]
  },
  {
   "cell_type": "code",
   "execution_count": 54,
   "metadata": {},
   "outputs": [],
   "source": [
    "session_songs = df.filter(df.page==\"NextSong\").groupby(\"userId\", \"sessionId\").count()\n",
    "session_songs_avg = session_songs.groupby(\"userId\").agg(avg(session_songs[\"count\"]).alias(\"session_songs_avg\")).sort(\"userId\")"
   ]
  },
  {
   "cell_type": "code",
   "execution_count": 55,
   "metadata": {},
   "outputs": [
    {
     "name": "stdout",
     "output_type": "stream",
     "text": [
      "+------+------------------+\n",
      "|userId| session_songs_avg|\n",
      "+------+------------------+\n",
      "|    10|112.16666666666667|\n",
      "|   100| 78.88235294117646|\n",
      "|100001|             33.25|\n",
      "|100002|             48.75|\n",
      "|100003|              25.5|\n",
      "+------+------------------+\n",
      "only showing top 5 rows\n",
      "\n"
     ]
    }
   ],
   "source": [
    "session_songs_avg.show(5)"
   ]
  },
  {
   "cell_type": "markdown",
   "metadata": {},
   "source": [
    "### Feature 3: Count of different artists"
   ]
  },
  {
   "cell_type": "code",
   "execution_count": 56,
   "metadata": {},
   "outputs": [],
   "source": [
    "artist_count = df.filter(df.page==\"NextSong\").select(\"userId\", \"artist\").dropDuplicates().groupby(\"userId\").count()\n",
    "artist_count = artist_count.withColumnRenamed(\"count\", \"artist_count\")"
   ]
  },
  {
   "cell_type": "code",
   "execution_count": 57,
   "metadata": {},
   "outputs": [
    {
     "name": "stdout",
     "output_type": "stream",
     "text": [
      "+------+------------+\n",
      "|userId|artist_count|\n",
      "+------+------------+\n",
      "|100010|         252|\n",
      "|200002|         339|\n",
      "|   125|           8|\n",
      "|    51|        1385|\n",
      "|   124|        2232|\n",
      "+------+------------+\n",
      "only showing top 5 rows\n",
      "\n"
     ]
    }
   ],
   "source": [
    "artist_count.show(5)"
   ]
  },
  {
   "cell_type": "markdown",
   "metadata": {},
   "source": [
    "### Feature 4: Days since registration"
   ]
  },
  {
   "cell_type": "code",
   "execution_count": 58,
   "metadata": {},
   "outputs": [],
   "source": [
    "max_ts = df.groupby(\"userId\").max(\"ts\").sort(\"userId\")\n",
    "reg_ts = df.select(\"userId\", \"registration\").dropDuplicates().sort(\"userId\")\n",
    "# Joint both datasets on user id\n",
    "days_since_registration = reg_ts.join(max_ts, reg_ts.userId == max_ts.userId) \\\n",
    ".select(reg_ts[\"userId\"], ((max_ts[\"max(ts)\"]-reg_ts[\"registration\"])/(1000*60*60*24)).alias(\"days_since_registration\"))"
   ]
  },
  {
   "cell_type": "code",
   "execution_count": 59,
   "metadata": {},
   "outputs": [
    {
     "name": "stdout",
     "output_type": "stream",
     "text": [
      "+------+-----------------------+\n",
      "|userId|days_since_registration|\n",
      "+------+-----------------------+\n",
      "|100010|      55.64365740740741|\n",
      "|200002|      70.07462962962963|\n",
      "|   125|      71.31688657407408|\n",
      "|   124|     131.55591435185184|\n",
      "|    51|     19.455844907407407|\n",
      "+------+-----------------------+\n",
      "only showing top 5 rows\n",
      "\n"
     ]
    }
   ],
   "source": [
    "days_since_registration.show(5)"
   ]
  },
  {
   "cell_type": "markdown",
   "metadata": {},
   "source": [
    "### Feature 5: Average time per session"
   ]
  },
  {
   "cell_type": "code",
   "execution_count": 60,
   "metadata": {},
   "outputs": [],
   "source": [
    "session_time = df.groupby(\"userId\", \"sessionId\")\\\n",
    ".agg(((Fmax(df.ts)-Fmin(df.ts))/(1000*60)).alias(\"sessionTime\"))\n",
    "session_time_avg = session_time.groupby(\"userId\")\\\n",
    ".agg(avg(session_time.sessionTime).alias(\"session_time_avg\")).sort(\"userId\")"
   ]
  },
  {
   "cell_type": "code",
   "execution_count": 61,
   "metadata": {},
   "outputs": [
    {
     "name": "stdout",
     "output_type": "stream",
     "text": [
      "+------+------------------+\n",
      "|userId|  session_time_avg|\n",
      "+------+------------------+\n",
      "|    10|459.74722222222226|\n",
      "|   100| 316.5190476190476|\n",
      "|100001|148.15833333333333|\n",
      "|100002|201.18333333333334|\n",
      "|100003| 99.11666666666667|\n",
      "+------+------------------+\n",
      "only showing top 5 rows\n",
      "\n"
     ]
    }
   ],
   "source": [
    "session_time_avg.show(5)"
   ]
  },
  {
   "cell_type": "markdown",
   "metadata": {},
   "source": [
    "### Feature 6: Average songs per day"
   ]
  },
  {
   "cell_type": "code",
   "execution_count": 62,
   "metadata": {},
   "outputs": [],
   "source": [
    "songs_perday_avg = df.where(df.page == \"NextSong\") \\\n",
    "    .select([\"userId\", \"day\"]) \\\n",
    "    .groupby( [ \"userId\", \"day\" ] ).count() \\\n",
    "    .withColumnRenamed(\"count\", \"songs_perday\") \\\n",
    "    .groupby( [ \"userId\" ] ).agg( { \"songs_perday\" : \"avg\"}) \\\n",
    "    .withColumnRenamed(\"avg(songs_perday)\", \"songs_perday_avg\")\n"
   ]
  },
  {
   "cell_type": "code",
   "execution_count": 63,
   "metadata": {},
   "outputs": [
    {
     "name": "stdout",
     "output_type": "stream",
     "text": [
      "+------+------------------+\n",
      "|userId|  songs_perday_avg|\n",
      "+------+------------------+\n",
      "|100010|39.285714285714285|\n",
      "|200002|55.285714285714285|\n",
      "|   125|               8.0|\n",
      "|   124|            163.16|\n",
      "|    51| 162.3846153846154|\n",
      "+------+------------------+\n",
      "only showing top 5 rows\n",
      "\n"
     ]
    }
   ],
   "source": [
    "songs_perday_avg.show(5)"
   ]
  },
  {
   "cell_type": "markdown",
   "metadata": {},
   "source": [
    "### Feature 7: Level (free or paid)"
   ]
  },
  {
   "cell_type": "code",
   "execution_count": 64,
   "metadata": {},
   "outputs": [
    {
     "name": "stdout",
     "output_type": "stream",
     "text": [
      "+------+----+----+\n",
      "|userId|free|paid|\n",
      "+------+----+----+\n",
      "|100021|   1|   0|\n",
      "|200021|   1|   0|\n",
      "|200001|   1|   0|\n",
      "|     6|   1|   0|\n",
      "|300022|   0|   1|\n",
      "+------+----+----+\n",
      "only showing top 5 rows\n",
      "\n"
     ]
    }
   ],
   "source": [
    "# One hot encoding of subscription level\n",
    "\n",
    "free = udf(lambda x: int(x=='free'), IntegerType())\n",
    "paid = udf(lambda x: int(x=='paid'), IntegerType())\n",
    "\n",
    "level = df.select('userId', 'level')\\\n",
    "        .where((df.level=='free')|(df.level=='paid'))\\\n",
    "        .dropDuplicates()\\\n",
    "        .withColumn('free', free('level'))\\\n",
    "        .withColumn('paid', paid('level')).drop('level')\n",
    "\n",
    "level.show(5)"
   ]
  },
  {
   "cell_type": "markdown",
   "metadata": {},
   "source": [
    "### Feature 8: Average Thumbs up per day"
   ]
  },
  {
   "cell_type": "code",
   "execution_count": 65,
   "metadata": {},
   "outputs": [],
   "source": [
    "thumbs_up_perday_avg = df.filter(df.page=='Thumbs Up')\\\n",
    "        .select('userId', 'page', 'ts')\\\n",
    "        .withColumn('date', get_day(col('ts')))\\\n",
    "        .groupBy('userId', 'date').agg({'page':'count'}).groupBy('userId')\\\n",
    "        .mean() \\\n",
    "        .withColumnRenamed('avg(count(page))', 'thumbs_up_perday_avg')"
   ]
  },
  {
   "cell_type": "code",
   "execution_count": 66,
   "metadata": {},
   "outputs": [
    {
     "name": "stdout",
     "output_type": "stream",
     "text": [
      "+------+--------------------+\n",
      "|userId|thumbs_up_perday_avg|\n",
      "+------+--------------------+\n",
      "|100010|  2.8333333333333335|\n",
      "|200002|                 3.0|\n",
      "|   124|               7.125|\n",
      "|    51|   8.333333333333334|\n",
      "|     7|                1.75|\n",
      "+------+--------------------+\n",
      "only showing top 5 rows\n",
      "\n"
     ]
    }
   ],
   "source": [
    "thumbs_up_perday_avg.show(5)"
   ]
  },
  {
   "cell_type": "markdown",
   "metadata": {},
   "source": [
    "### Feature 9: Average Thumbs down"
   ]
  },
  {
   "cell_type": "code",
   "execution_count": 67,
   "metadata": {},
   "outputs": [],
   "source": [
    "thumbs_down_perday_avg = df.filter(df.page=='Thumbs Down')\\\n",
    "        .select('userId', 'page', 'ts')\\\n",
    "        .withColumn('date', get_day(col('ts')))\\\n",
    "        .groupBy('userId', 'date').agg({'page':'count'}).groupBy('userId')\\\n",
    "        .mean() \\\n",
    "        .withColumnRenamed('avg(count(page))', 'thumbs_down_perday_avg')"
   ]
  },
  {
   "cell_type": "code",
   "execution_count": 68,
   "metadata": {},
   "outputs": [
    {
     "name": "stdout",
     "output_type": "stream",
     "text": [
      "+------+----------------------+\n",
      "|userId|thumbs_down_perday_avg|\n",
      "+------+----------------------+\n",
      "|100010|                  1.25|\n",
      "|200002|                   3.0|\n",
      "|   124|    2.1578947368421053|\n",
      "|    51|                   2.1|\n",
      "|     7|                   1.0|\n",
      "+------+----------------------+\n",
      "only showing top 5 rows\n",
      "\n"
     ]
    }
   ],
   "source": [
    "thumbs_down_perday_avg.show(5)"
   ]
  },
  {
   "cell_type": "markdown",
   "metadata": {},
   "source": [
    "### Feature 10: Daily errors"
   ]
  },
  {
   "cell_type": "code",
   "execution_count": 69,
   "metadata": {},
   "outputs": [],
   "source": [
    "daily_errors = df.filter(df.page=='Error')\\\n",
    "        .select('userId', 'page', 'ts', 'length')\\\n",
    "        .withColumn('date', get_day(col('ts')))\\\n",
    "        .groupBy('userId', 'date').agg({'page':'count'})\\\n",
    "        .groupBy('userId').mean()\\\n",
    "        .withColumnRenamed('avg(count(page))', 'daily_errors')"
   ]
  },
  {
   "cell_type": "code",
   "execution_count": 70,
   "metadata": {},
   "outputs": [
    {
     "name": "stdout",
     "output_type": "stream",
     "text": [
      "+------+------------+\n",
      "|userId|daily_errors|\n",
      "+------+------------+\n",
      "|   124|         1.2|\n",
      "|    51|         1.0|\n",
      "|     7|         1.0|\n",
      "|    15|         1.0|\n",
      "|    54|         1.0|\n",
      "+------+------------+\n",
      "only showing top 5 rows\n",
      "\n"
     ]
    }
   ],
   "source": [
    "daily_errors.show(5)"
   ]
  },
  {
   "cell_type": "markdown",
   "metadata": {},
   "source": [
    "Collect the computation of the different features and the churn phase in a single method."
   ]
  },
  {
   "cell_type": "code",
   "execution_count": 71,
   "metadata": {},
   "outputs": [],
   "source": [
    "def create_feature_df(filepath='mini_sparkify_event_data.json'):\n",
    "    \n",
    "    \"\"\"\n",
    "    This method creates a result with following structure:\n",
    "    \n",
    "    root\n",
    "     |-- userId: string\n",
    "     |-- churn_phase: bigint\n",
    "     |-- downgrade_phase: bigint\n",
    "     |-- session_count: bigint\n",
    "     |-- session_songs_avg: bigint\n",
    "     |-- artist_count: bigint\n",
    "     |-- days_since_registration: double\n",
    "     |-- session_time_avg: double\n",
    "     |-- songs_perday_avg: double\n",
    "     |-- free: int \n",
    "     |-- paid: int \n",
    "     |-- thumbs_up_perday_avg: double \n",
    "     |-- thumbs_down_perday_avg: double \n",
    "     |-- daily_errors: double \n",
    "    \n",
    "    \"\"\"\n",
    "    # Get the data from the json file\n",
    "    df = spark.read.json(filepath)\n",
    "    \n",
    "    # Remove rows without userId\n",
    "    df = df.filter(df.userId != \"\")\n",
    "\n",
    "    # Define udf's for churn and downgrade columns\n",
    "    churn = udf(lambda x: int(x == 'Cancellation Confirmation'), IntegerType())\n",
    "    downgrade_churn = udf(lambda x: int(x == 'Submit Downgrade'), IntegerType())\n",
    "\n",
    "    df = df.withColumn(\"downgraded\", downgrade_churn(\"page\")).withColumn(\"cancelled\", churn(\"page\"))\n",
    "    \n",
    "    # Use a window function to get the churn phase of the user\n",
    "    window = Window.partitionBy(\"userId\").orderBy(desc(\"ts\")).rangeBetween(Window.unboundedPreceding, 0)\n",
    "    df = df.withColumn(\"churn_phase\", Fsum(\"cancelled\").over(window))\\\n",
    "           .withColumn(\"downgrade_phase\", Fsum(\"downgraded\").over(window))\n",
    "    \n",
    "    \n",
    "    # We will merge all the feature dataframes with the user dataframe.\n",
    "    users = df.where((df.userId != \"\") | (df.sessionId != \"\")) \\\n",
    "    .select('userId', 'churn_phase', 'downgrade_phase').dropDuplicates()       \n",
    "    \n",
    "    # Add helper features\n",
    "    get_day = udf(lambda x: datetime.datetime.fromtimestamp(x / 1000.0).day)\n",
    "    df = df.withColumn(\"day\", get_day(df.ts))\n",
    "\n",
    "    # Feature 1, Session Count\n",
    "    session_count = df.select(\"userId\", \"sessionId\").dropDuplicates().groupby(\"userId\").count()\n",
    "    session_count = session_count.withColumnRenamed(\"count\", \"session_count\")  \n",
    "    \n",
    "    # Feature 2, Songs per Session\n",
    "    session_songs = df.filter(df.page==\"NextSong\").groupby(\"userId\", \"sessionId\").count()\n",
    "    session_songs_avg = session_songs.groupby(\"userId\").agg(avg(session_songs[\"count\"])\\\n",
    "                                                            .alias(\"session_songs_avg\")).sort(\"userId\")\n",
    "    # Feature 3, Artist count\n",
    "    artist_count = df.filter(df.page==\"NextSong\").select(\"userId\", \"artist\").dropDuplicates().groupby(\"userId\").count()\n",
    "    artist_count = artist_count.withColumnRenamed(\"count\", \"artist_count\")\n",
    "    \n",
    "    # Feature 4,  Days since registration\n",
    "    max_ts = df.groupby(\"userId\").max(\"ts\").sort(\"userId\")\n",
    "    reg_ts = df.select(\"userId\", \"registration\").dropDuplicates().sort(\"userId\")\n",
    "    # Joint both datasets on user id\n",
    "    days_since_registration = reg_ts.join(max_ts, reg_ts.userId == max_ts.userId) \\\n",
    "    .select(reg_ts[\"userId\"], ((max_ts[\"max(ts)\"]-reg_ts[\"registration\"])/(1000*60*60*24)).alias(\"days_since_registration\"))\n",
    "\n",
    "    # Feature 5, Average time per session\n",
    "    session_time = df.groupby(\"userId\", \"sessionId\")\\\n",
    "    .agg(((Fmax(df.ts)-Fmin(df.ts))/(1000*60)).alias(\"sessionTime\"))\n",
    "    session_time_avg = session_time.groupby(\"userId\")\\\n",
    "    .agg(avg(session_time.sessionTime).alias(\"session_time_avg\")).sort(\"userId\")\n",
    "\n",
    "    # Feature 6, songs per day (average)   \n",
    "    songs_perday_avg = df.where(df.page == \"NextSong\") \\\n",
    "    .select([\"userId\", \"day\"]) \\\n",
    "    .groupby( [ \"userId\", \"day\" ] ).count() \\\n",
    "    .withColumnRenamed(\"count\", \"songs_perday\") \\\n",
    "    .groupby( [ \"userId\" ] ).agg( { \"songs_perday\" : \"avg\"}) \\\n",
    "    .withColumnRenamed(\"avg(songs_perday)\", \"songs_perday_avg\")\n",
    "\n",
    "    # Feature 7, Subscription level, One-Hot encoded \n",
    "    free = udf(lambda x: int(x=='free'), IntegerType())\n",
    "    paid = udf(lambda x: int(x=='paid'), IntegerType())\n",
    "\n",
    "    level = df.select('userId', 'level')\\\n",
    "        .where((df.level=='free')|(df.level=='paid'))\\\n",
    "        .dropDuplicates()\\\n",
    "        .withColumn('free', free('level'))\\\n",
    "        .withColumn('paid', paid('level')).drop('level')\n",
    "    \n",
    "    # Feature 8, Average Thumbs up per day\n",
    "    thumbs_up_perday_avg = df.filter(df.page=='Thumbs Up')\\\n",
    "        .select('userId', 'page', 'ts')\\\n",
    "        .withColumn('date', get_day(col('ts')))\\\n",
    "        .groupBy('userId', 'date').agg({'page':'count'}).groupBy('userId')\\\n",
    "        .mean() \\\n",
    "        .withColumnRenamed('avg(count(page))', 'thumbs_up_perday_avg')\n",
    "    \n",
    "    # Feature 9, Average Thumbs down per day\n",
    "    thumbs_down_perday_avg = df.filter(df.page=='Thumbs Down')\\\n",
    "        .select('userId', 'page', 'ts')\\\n",
    "        .withColumn('date', get_day(col('ts')))\\\n",
    "        .groupBy('userId', 'date').agg({'page':'count'}).groupBy('userId')\\\n",
    "        .mean() \\\n",
    "        .withColumnRenamed('avg(count(page))', 'thumbs_down_perday_avg')\n",
    "   \n",
    "    # Feature 10, daily errors (average)\n",
    "    daily_errors = df.filter(df.page=='Error')\\\n",
    "        .select('userId', 'page', 'ts', 'length')\\\n",
    "        .withColumn('date', get_day(col('ts')))\\\n",
    "        .groupBy('userId', 'date').agg({'page':'count'})\\\n",
    "        .groupBy('userId').mean()\\\n",
    "        .withColumnRenamed('avg(count(page))', 'daily_errors')\n",
    "    \n",
    "    # Join all the features to a result dataframe\n",
    "    df = users.join(session_count, on='userId') \\\n",
    "        .join(session_songs_avg, on='userId') \\\n",
    "        .join(artist_count, on='userId') \\\n",
    "        .join(days_since_registration, on='userId') \\\n",
    "        .join(session_time_avg, on='userId') \\\n",
    "        .join(songs_perday_avg, on='userId') \\\n",
    "        .join(level, on='userId') \\\n",
    "        .join(thumbs_up_perday_avg, on='userId') \\\n",
    "        .join(thumbs_down_perday_avg, on='userId') \\\n",
    "        .join(daily_errors, on='userId')\n",
    "    \n",
    "    \n",
    "    return df\n"
   ]
  },
  {
   "cell_type": "code",
   "execution_count": 72,
   "metadata": {},
   "outputs": [
    {
     "name": "stdout",
     "output_type": "stream",
     "text": [
      "+------+-----------+---------------+-------------+------------------+------------+-----------------------+------------------+------------------+----+----+--------------------+----------------------+------------+\n",
      "|userId|churn_phase|downgrade_phase|session_count| session_songs_avg|artist_count|days_since_registration|  session_time_avg|  songs_perday_avg|free|paid|thumbs_up_perday_avg|thumbs_down_perday_avg|daily_errors|\n",
      "+------+-----------+---------------+-------------+------------------+------------+-----------------------+------------------+------------------+----+----+--------------------+----------------------+------------+\n",
      "|   124|          0|              0|           29|145.67857142857142|        2232|     131.55591435185184| 578.9942528735633|            163.16|   0|   1|               7.125|    2.1578947368421053|         1.2|\n",
      "|    51|          1|              0|           10|             211.1|        1385|     19.455844907407407| 872.3566666666666| 162.3846153846154|   0|   1|   8.333333333333334|                   2.1|         1.0|\n",
      "|     7|          0|              0|            7|21.428571428571427|         142|      72.77818287037037| 87.64047619047619|             18.75|   1|   0|                1.75|                   1.0|         1.0|\n",
      "|    15|          0|              0|           15|136.71428571428572|        1302|     56.513576388888886| 528.2833333333333|112.58823529411765|   0|   1|   5.785714285714286|    1.5555555555555556|         1.0|\n",
      "|    54|          1|              0|           37| 81.17142857142858|        1744|     110.75168981481481|322.28963963963963|           118.375|   1|   0|   7.761904761904762|    1.7058823529411764|         1.0|\n",
      "+------+-----------+---------------+-------------+------------------+------------+-----------------------+------------------+------------------+----+----+--------------------+----------------------+------------+\n",
      "only showing top 5 rows\n",
      "\n"
     ]
    }
   ],
   "source": [
    "new_df = create_feature_df()\n",
    "new_df.show(5)"
   ]
  },
  {
   "cell_type": "code",
   "execution_count": 107,
   "metadata": {},
   "outputs": [],
   "source": [
    "out_path = \"features.csv\"\n",
    "new_df.write.save(out_path, format=\"csv\", header=True)"
   ]
  },
  {
   "cell_type": "code",
   "execution_count": 73,
   "metadata": {},
   "outputs": [
    {
     "data": {
      "text/plain": [
       "DataFrame[userId: string, churn_phase: bigint, downgrade_phase: bigint, session_count: bigint, session_songs_avg: double, artist_count: bigint, days_since_registration: double, session_time_avg: double, songs_perday_avg: double, free: int, paid: int, thumbs_up_perday_avg: double, thumbs_down_perday_avg: double, daily_errors: double]"
      ]
     },
     "execution_count": 73,
     "metadata": {},
     "output_type": "execute_result"
    }
   ],
   "source": [
    "new_df.persist()"
   ]
  },
  {
   "cell_type": "code",
   "execution_count": 74,
   "metadata": {},
   "outputs": [
    {
     "data": {
      "text/html": [
       "<div>\n",
       "<style scoped>\n",
       "    .dataframe tbody tr th:only-of-type {\n",
       "        vertical-align: middle;\n",
       "    }\n",
       "\n",
       "    .dataframe tbody tr th {\n",
       "        vertical-align: top;\n",
       "    }\n",
       "\n",
       "    .dataframe thead th {\n",
       "        text-align: right;\n",
       "    }\n",
       "</style>\n",
       "<table border=\"1\" class=\"dataframe\">\n",
       "  <thead>\n",
       "    <tr style=\"text-align: right;\">\n",
       "      <th></th>\n",
       "      <th>userId</th>\n",
       "      <th>churn_phase</th>\n",
       "      <th>downgrade_phase</th>\n",
       "      <th>session_count</th>\n",
       "      <th>session_songs_avg</th>\n",
       "      <th>artist_count</th>\n",
       "      <th>days_since_registration</th>\n",
       "      <th>session_time_avg</th>\n",
       "      <th>songs_perday_avg</th>\n",
       "      <th>free</th>\n",
       "      <th>paid</th>\n",
       "      <th>thumbs_up_perday_avg</th>\n",
       "      <th>thumbs_down_perday_avg</th>\n",
       "      <th>daily_errors</th>\n",
       "    </tr>\n",
       "  </thead>\n",
       "  <tbody>\n",
       "    <tr>\n",
       "      <th>0</th>\n",
       "      <td>124</td>\n",
       "      <td>0</td>\n",
       "      <td>0</td>\n",
       "      <td>29</td>\n",
       "      <td>145.678571</td>\n",
       "      <td>2232</td>\n",
       "      <td>131.555914</td>\n",
       "      <td>578.994253</td>\n",
       "      <td>163.160000</td>\n",
       "      <td>0</td>\n",
       "      <td>1</td>\n",
       "      <td>7.125000</td>\n",
       "      <td>2.157895</td>\n",
       "      <td>1.2</td>\n",
       "    </tr>\n",
       "    <tr>\n",
       "      <th>1</th>\n",
       "      <td>51</td>\n",
       "      <td>1</td>\n",
       "      <td>0</td>\n",
       "      <td>10</td>\n",
       "      <td>211.100000</td>\n",
       "      <td>1385</td>\n",
       "      <td>19.455845</td>\n",
       "      <td>872.356667</td>\n",
       "      <td>162.384615</td>\n",
       "      <td>0</td>\n",
       "      <td>1</td>\n",
       "      <td>8.333333</td>\n",
       "      <td>2.100000</td>\n",
       "      <td>1.0</td>\n",
       "    </tr>\n",
       "    <tr>\n",
       "      <th>2</th>\n",
       "      <td>7</td>\n",
       "      <td>0</td>\n",
       "      <td>0</td>\n",
       "      <td>7</td>\n",
       "      <td>21.428571</td>\n",
       "      <td>142</td>\n",
       "      <td>72.778183</td>\n",
       "      <td>87.640476</td>\n",
       "      <td>18.750000</td>\n",
       "      <td>1</td>\n",
       "      <td>0</td>\n",
       "      <td>1.750000</td>\n",
       "      <td>1.000000</td>\n",
       "      <td>1.0</td>\n",
       "    </tr>\n",
       "    <tr>\n",
       "      <th>3</th>\n",
       "      <td>15</td>\n",
       "      <td>0</td>\n",
       "      <td>0</td>\n",
       "      <td>15</td>\n",
       "      <td>136.714286</td>\n",
       "      <td>1302</td>\n",
       "      <td>56.513576</td>\n",
       "      <td>528.283333</td>\n",
       "      <td>112.588235</td>\n",
       "      <td>0</td>\n",
       "      <td>1</td>\n",
       "      <td>5.785714</td>\n",
       "      <td>1.555556</td>\n",
       "      <td>1.0</td>\n",
       "    </tr>\n",
       "    <tr>\n",
       "      <th>4</th>\n",
       "      <td>54</td>\n",
       "      <td>1</td>\n",
       "      <td>0</td>\n",
       "      <td>37</td>\n",
       "      <td>81.171429</td>\n",
       "      <td>1744</td>\n",
       "      <td>110.751690</td>\n",
       "      <td>322.289640</td>\n",
       "      <td>118.375000</td>\n",
       "      <td>1</td>\n",
       "      <td>0</td>\n",
       "      <td>7.761905</td>\n",
       "      <td>1.705882</td>\n",
       "      <td>1.0</td>\n",
       "    </tr>\n",
       "  </tbody>\n",
       "</table>\n",
       "</div>"
      ],
      "text/plain": [
       "  userId  churn_phase  downgrade_phase  session_count  session_songs_avg  \\\n",
       "0    124            0                0             29         145.678571   \n",
       "1     51            1                0             10         211.100000   \n",
       "2      7            0                0              7          21.428571   \n",
       "3     15            0                0             15         136.714286   \n",
       "4     54            1                0             37          81.171429   \n",
       "\n",
       "   artist_count  days_since_registration  session_time_avg  songs_perday_avg  \\\n",
       "0          2232               131.555914        578.994253        163.160000   \n",
       "1          1385                19.455845        872.356667        162.384615   \n",
       "2           142                72.778183         87.640476         18.750000   \n",
       "3          1302                56.513576        528.283333        112.588235   \n",
       "4          1744               110.751690        322.289640        118.375000   \n",
       "\n",
       "   free  paid  thumbs_up_perday_avg  thumbs_down_perday_avg  daily_errors  \n",
       "0     0     1              7.125000                2.157895           1.2  \n",
       "1     0     1              8.333333                2.100000           1.0  \n",
       "2     1     0              1.750000                1.000000           1.0  \n",
       "3     0     1              5.785714                1.555556           1.0  \n",
       "4     1     0              7.761905                1.705882           1.0  "
      ]
     },
     "execution_count": 74,
     "metadata": {},
     "output_type": "execute_result"
    }
   ],
   "source": [
    "# Use pandas to get a nice overview of the columns\n",
    "\n",
    "pd = new_df.toPandas()\n",
    "pd.head(5)"
   ]
  },
  {
   "cell_type": "code",
   "execution_count": 75,
   "metadata": {},
   "outputs": [],
   "source": [
    "# Convert all features to numeric features and scale features\n",
    "\n",
    "def scale_features(df):\n",
    "    \"\"\"\n",
    "    This method converts all features to numeric features and scales them.\n",
    "    In additon a feature_vector column and a label columns are created.\n",
    "    \"\"\"\n",
    "    numeric_cols = df.drop('userId', 'churn_phase').columns\n",
    "    \n",
    "    df = df.withColumn(\"label\", df[\"churn_phase\"].cast(DoubleType()))\n",
    "    \n",
    "    vector_assembler = VectorAssembler(inputCols=numeric_cols, outputCol='feature_vector') \n",
    "    min_max_scaler = MinMaxScaler(inputCol=\"feature_vector\", outputCol=\"features\")\n",
    "    \n",
    "    df = vector_assembler.transform(df)\n",
    "    min_max_scaler_model = min_max_scaler.fit(df)\n",
    "    result_df = min_max_scaler_model.transform(df)\n",
    "    \n",
    "    return result_df[['label', 'features']]"
   ]
  },
  {
   "cell_type": "code",
   "execution_count": 77,
   "metadata": {},
   "outputs": [],
   "source": [
    "# Create a new dataframe, suitable for Spark Machine Learning\n",
    "\n",
    "scaled_df = scale_features(new_df)"
   ]
  },
  {
   "cell_type": "code",
   "execution_count": 78,
   "metadata": {},
   "outputs": [
    {
     "data": {
      "text/html": [
       "<div>\n",
       "<style scoped>\n",
       "    .dataframe tbody tr th:only-of-type {\n",
       "        vertical-align: middle;\n",
       "    }\n",
       "\n",
       "    .dataframe tbody tr th {\n",
       "        vertical-align: top;\n",
       "    }\n",
       "\n",
       "    .dataframe thead th {\n",
       "        text-align: right;\n",
       "    }\n",
       "</style>\n",
       "<table border=\"1\" class=\"dataframe\">\n",
       "  <thead>\n",
       "    <tr style=\"text-align: right;\">\n",
       "      <th></th>\n",
       "      <th>label</th>\n",
       "      <th>features</th>\n",
       "    </tr>\n",
       "  </thead>\n",
       "  <tbody>\n",
       "    <tr>\n",
       "      <th>0</th>\n",
       "      <td>0.0</td>\n",
       "      <td>[0.0, 0.264150943396, 0.471789839882, 0.621028...</td>\n",
       "    </tr>\n",
       "    <tr>\n",
       "      <th>1</th>\n",
       "      <td>1.0</td>\n",
       "      <td>[0.0, 0.0849056603774, 0.716890415236, 0.37637...</td>\n",
       "    </tr>\n",
       "    <tr>\n",
       "      <th>2</th>\n",
       "      <td>0.0</td>\n",
       "      <td>[0.0, 0.0566037735849, 0.00628874715668, 0.017...</td>\n",
       "    </tr>\n",
       "    <tr>\n",
       "      <th>3</th>\n",
       "      <td>0.0</td>\n",
       "      <td>[0.0, 0.132075471698, 0.438205254003, 0.352397...</td>\n",
       "    </tr>\n",
       "    <tr>\n",
       "      <th>4</th>\n",
       "      <td>1.0</td>\n",
       "      <td>[0.0, 0.339622641509, 0.230114624682, 0.480069...</td>\n",
       "    </tr>\n",
       "  </tbody>\n",
       "</table>\n",
       "</div>"
      ],
      "text/plain": [
       "   label                                           features\n",
       "0    0.0  [0.0, 0.264150943396, 0.471789839882, 0.621028...\n",
       "1    1.0  [0.0, 0.0849056603774, 0.716890415236, 0.37637...\n",
       "2    0.0  [0.0, 0.0566037735849, 0.00628874715668, 0.017...\n",
       "3    0.0  [0.0, 0.132075471698, 0.438205254003, 0.352397...\n",
       "4    1.0  [0.0, 0.339622641509, 0.230114624682, 0.480069..."
      ]
     },
     "execution_count": 78,
     "metadata": {},
     "output_type": "execute_result"
    }
   ],
   "source": [
    "# Convert to a Pandas dataframe and get a look at the first few rows.\n",
    "\n",
    "scaled_df.toPandas().head()"
   ]
  },
  {
   "cell_type": "code",
   "execution_count": 79,
   "metadata": {},
   "outputs": [],
   "source": [
    "# Save the pandas data frame\n",
    "\n",
    "scaled_df.toPandas().to_csv(\"scaled_df.csv\")"
   ]
  },
  {
   "cell_type": "markdown",
   "metadata": {},
   "source": [
    "# Modeling\n",
    "Split the full dataset into train, test, and validation sets. Test out several of the machine learning methods you learned. Evaluate the accuracy of the various models, tuning parameters as necessary. Determine your winning model based on test accuracy and report results on the validation set. Since the churned users are a fairly small subset, I suggest using F1 score as the metric to optimize."
   ]
  },
  {
   "cell_type": "code",
   "execution_count": 108,
   "metadata": {},
   "outputs": [],
   "source": [
    "# Split the  data into training and validation data sets.\n",
    "# Due to the small number of users, that churn we will use 40 % of the data for validation and testing\n",
    "\n",
    "train, validation = scaled_df.randomSplit([0.6, 0.4], seed=42)"
   ]
  },
  {
   "cell_type": "code",
   "execution_count": 82,
   "metadata": {},
   "outputs": [],
   "source": [
    "# Create a helper function used to report classification results\n",
    "\n",
    "def get_metrics(model, train, test, fields = ['label', 'probability', 'prediction']):\n",
    "    \"\"\"\n",
    "    This is a helper function used to collect several classifier results.\n",
    "    \"\"\"\n",
    "    model_preds_train = model.transform(train)\n",
    "    model_preds_test = model.transform(test)\n",
    "    \n",
    "    evaluator_roc = BinaryClassificationEvaluator(metricName = 'areaUnderROC')\n",
    "    auc_train = evaluator_roc.evaluate(model_preds_train)\n",
    "    auc_test = evaluator_roc.evaluate(model_preds_test)\n",
    "    \n",
    "    # Computer classification results for training data\n",
    "    preds_train_df = model_preds_train.select(fields).toPandas()\n",
    "    train_f1_score = f1_score(preds_train_df.label, preds_train_df.prediction)\n",
    "    train_precision = precision_score(preds_train_df.label, preds_train_df.prediction)\n",
    "    train_recall = recall_score(preds_train_df.label, preds_train_df.prediction)\n",
    "    train_accuracy = accuracy_score(preds_train_df.label, preds_train_df.prediction)\n",
    "    \n",
    "    # Now the same stuff for test data\n",
    "    preds_test_df = model_preds_test.select(fields).toPandas()  \n",
    "    \n",
    "    test_f1_score = f1_score(preds_test_df.label, preds_test_df.prediction)\n",
    "    test_precision = precision_score(preds_test_df.label, preds_test_df.prediction)\n",
    "    test_recall = recall_score(preds_test_df.label, preds_test_df.prediction)\n",
    "    test_accuracy = accuracy_score(preds_test_df.label, preds_test_df.prediction)  \n",
    "    \n",
    "    print(\"Area Under ROC (training): {0}\\n\" \\\n",
    "          \"Area Under ROC (test): {1}\\n\" \\\n",
    "          \"F1 Score (training): {2}\\n\" \\\n",
    "          \"F1 Score (test): {3}\\n\" \\\n",
    "          \"Precision (training): {4}\\n\" \\\n",
    "          \"Precision (test): {5}\\n\" \\\n",
    "          \"Recall (training): {6}\\n\" \\\n",
    "          \"Recall (test): {7}\\n\" \\\n",
    "          \"Accuracy (training): {8}\\n\" \\\n",
    "          \"Accuracy (test): {9}\\n\" \\\n",
    "          .format(\\\n",
    "            auc_train, \\\n",
    "            auc_test, \n",
    "            train_f1_score, \\\n",
    "            test_f1_score, \\\n",
    "            train_precision, \\\n",
    "            test_precision, \\\n",
    "            train_recall, \\\n",
    "            test_recall, \\\n",
    "            train_accuracy, \\\n",
    "            test_accuracy\n",
    "            ))\n",
    "                                            \n",
    "    return \\\n",
    "        auc_train, \\\n",
    "        auc_test, \\\n",
    "        train_f1_score, \\\n",
    "        test_f1_score, \\\n",
    "        train_precision, \\\n",
    "        test_precision, \\\n",
    "        train_recall, \\\n",
    "        test_recall, \\\n",
    "        train_accuracy, \\\n",
    "        test_accuracy\n",
    "        "
   ]
  },
  {
   "cell_type": "markdown",
   "metadata": {},
   "source": [
    "Use several classification algorithms with 3-fold crossvalidation and grid search for optimal parameters."
   ]
  },
  {
   "cell_type": "markdown",
   "metadata": {},
   "source": [
    "### Decision Tree classifier"
   ]
  },
  {
   "cell_type": "code",
   "execution_count": 109,
   "metadata": {},
   "outputs": [],
   "source": [
    "# Use a decision tree classifier \n",
    "\n",
    "dtc = DecisionTreeClassifier()\n",
    "paramGrid = ParamGridBuilder() \\\n",
    "    .addGrid(dtc.impurity,['entropy']) \\\n",
    "    .addGrid(dtc.maxDepth,[2, 5]) \\\n",
    "    .build()\n",
    "\n",
    "dtc_crossval = CrossValidator(estimator=dtc,\n",
    "                          estimatorParamMaps=paramGrid,\n",
    "                          evaluator=MulticlassClassificationEvaluator(),\n",
    "                          numFolds=3)\n",
    "\n",
    "dtc_model = dtc_crossval.fit(train)"
   ]
  },
  {
   "cell_type": "code",
   "execution_count": 105,
   "metadata": {},
   "outputs": [
    {
     "data": {
      "text/plain": [
       "[0.7873582959940908, 0.8324015032213643]"
      ]
     },
     "execution_count": 105,
     "metadata": {},
     "output_type": "execute_result"
    }
   ],
   "source": [
    "# Get the key metrics\n",
    "\n",
    "dtc_model.avgMetrics"
   ]
  },
  {
   "cell_type": "code",
   "execution_count": 106,
   "metadata": {},
   "outputs": [],
   "source": [
    "# Save the model\n",
    "\n",
    "dtc_model.save('dtc.model')"
   ]
  },
  {
   "cell_type": "code",
   "execution_count": 116,
   "metadata": {},
   "outputs": [
    {
     "name": "stdout",
     "output_type": "stream",
     "text": [
      "Area Under ROC (training): 0.9904524699045247\n",
      "Area Under ROC (test): 0.9348684210526316\n",
      "F1 Score (training): 0.9393939393939394\n",
      "F1 Score (test): 0.823529411764706\n",
      "Precision (training): 0.9393939393939394\n",
      "Precision (test): 0.7777777777777778\n",
      "Recall (training): 0.9393939393939394\n",
      "Recall (test): 0.875\n",
      "Accuracy (training): 0.9776536312849162\n",
      "Accuracy (test): 0.9459459459459459\n",
      "\n"
     ]
    },
    {
     "data": {
      "text/plain": [
       "(0.9904524699045247,\n",
       " 0.9348684210526316,\n",
       " 0.93939393939393945,\n",
       " 0.82352941176470595,\n",
       " 0.93939393939393945,\n",
       " 0.77777777777777779,\n",
       " 0.93939393939393945,\n",
       " 0.875,\n",
       " 0.97765363128491622,\n",
       " 0.94594594594594594)"
      ]
     },
     "execution_count": 116,
     "metadata": {},
     "output_type": "execute_result"
    }
   ],
   "source": [
    "# Report Results\n",
    "get_metrics(dtc_model, train, validation)"
   ]
  },
  {
   "cell_type": "markdown",
   "metadata": {},
   "source": [
    "### Logistic Regression"
   ]
  },
  {
   "cell_type": "code",
   "execution_count": 111,
   "metadata": {},
   "outputs": [],
   "source": [
    "lr =  LogisticRegression()\n",
    "paramGrid = ParamGridBuilder() \\\n",
    "    .addGrid(lr.elasticNetParam,[0.0, 0.5, 1.0]) \\\n",
    "    .addGrid(lr.regParam,[0.0, 0.1]) \\\n",
    "    .build()\n",
    "\n",
    "lr_crossval = CrossValidator(estimator=lr,\n",
    "                          estimatorParamMaps=paramGrid,\n",
    "                          evaluator=MulticlassClassificationEvaluator(),\n",
    "                          numFolds=3)\n",
    "lr_model = lr_crossval.fit(train)"
   ]
  },
  {
   "cell_type": "code",
   "execution_count": 113,
   "metadata": {},
   "outputs": [
    {
     "data": {
      "text/plain": [
       "[0.8073334000784982,\n",
       " 0.7511156590890047,\n",
       " 0.8073334000784982,\n",
       " 0.7318535593608317,\n",
       " 0.8073334000784982,\n",
       " 0.7318535593608317]"
      ]
     },
     "execution_count": 113,
     "metadata": {},
     "output_type": "execute_result"
    }
   ],
   "source": [
    "# Get the key metrics\n",
    "lr_model.avgMetrics"
   ]
  },
  {
   "cell_type": "code",
   "execution_count": 114,
   "metadata": {},
   "outputs": [],
   "source": [
    "# Save the model\n",
    "\n",
    "lr_model.save('lr.model')"
   ]
  },
  {
   "cell_type": "code",
   "execution_count": 115,
   "metadata": {},
   "outputs": [
    {
     "name": "stdout",
     "output_type": "stream",
     "text": [
      "Area Under ROC (training): 0.8111249481112497\n",
      "Area Under ROC (test): 0.7875000000000003\n",
      "F1 Score (training): 0.391304347826087\n",
      "F1 Score (test): 0.3\n",
      "Precision (training): 0.6923076923076923\n",
      "Precision (test): 0.75\n",
      "Recall (training): 0.2727272727272727\n",
      "Recall (test): 0.1875\n",
      "Accuracy (training): 0.8435754189944135\n",
      "Accuracy (test): 0.8738738738738738\n",
      "\n"
     ]
    },
    {
     "data": {
      "text/plain": [
       "(0.8111249481112497,\n",
       " 0.7875000000000003,\n",
       " 0.39130434782608697,\n",
       " 0.29999999999999999,\n",
       " 0.69230769230769229,\n",
       " 0.75,\n",
       " 0.27272727272727271,\n",
       " 0.1875,\n",
       " 0.84357541899441346,\n",
       " 0.87387387387387383)"
      ]
     },
     "execution_count": 115,
     "metadata": {},
     "output_type": "execute_result"
    }
   ],
   "source": [
    "# Report results\n",
    "get_metrics(lr_model, train, validation)"
   ]
  },
  {
   "cell_type": "markdown",
   "metadata": {},
   "source": [
    "### Support Vector Maschine"
   ]
  },
  {
   "cell_type": "code",
   "execution_count": 129,
   "metadata": {},
   "outputs": [],
   "source": [
    "svm =  LinearSVC()\n",
    "paramGrid = ParamGridBuilder() \\\n",
    "    .addGrid(svm.maxIter,[10]) \\\n",
    "    .addGrid(lr.regParam,[0.0, 0.1]) \\\n",
    "    .build()\n",
    "\n",
    "svm_crossval = CrossValidator(estimator=svm,\n",
    "                          estimatorParamMaps=paramGrid,\n",
    "                          evaluator=MulticlassClassificationEvaluator(),\n",
    "                          numFolds=3)\n",
    "svm_model = svm_crossval.fit(train)"
   ]
  },
  {
   "cell_type": "code",
   "execution_count": 130,
   "metadata": {},
   "outputs": [
    {
     "data": {
      "text/plain": [
       "[0.7423440725231008, 0.7423440725231008]"
      ]
     },
     "execution_count": 130,
     "metadata": {},
     "output_type": "execute_result"
    }
   ],
   "source": [
    "# Get the key metrics\n",
    "svm_model.avgMetrics"
   ]
  },
  {
   "cell_type": "code",
   "execution_count": 132,
   "metadata": {},
   "outputs": [],
   "source": [
    "# Save the model\n",
    "svm_model.write().overwrite().save('svm.model')"
   ]
  },
  {
   "cell_type": "code",
   "execution_count": 134,
   "metadata": {},
   "outputs": [
    {
     "name": "stderr",
     "output_type": "stream",
     "text": [
      "/opt/conda/lib/python3.6/site-packages/sklearn/metrics/classification.py:1135: UndefinedMetricWarning: F-score is ill-defined and being set to 0.0 due to no predicted samples.\n",
      "  'precision', 'predicted', average, warn_for)\n",
      "/opt/conda/lib/python3.6/site-packages/sklearn/metrics/classification.py:1135: UndefinedMetricWarning: Precision is ill-defined and being set to 0.0 due to no predicted samples.\n",
      "  'precision', 'predicted', average, warn_for)\n"
     ]
    },
    {
     "name": "stdout",
     "output_type": "stream",
     "text": [
      "Area Under ROC (training): 0.7588210875882114\n",
      "Area Under ROC (test): 0.7756578947368423\n",
      "F1 Score (training): 0.0\n",
      "F1 Score (test): 0.0\n",
      "Precision (training): 0.0\n",
      "Precision (test): 0.0\n",
      "Recall (training): 0.0\n",
      "Recall (test): 0.0\n",
      "Accuracy (training): 0.8156424581005587\n",
      "Accuracy (test): 0.8558558558558559\n",
      "\n"
     ]
    },
    {
     "data": {
      "text/plain": [
       "(0.7588210875882114,\n",
       " 0.7756578947368423,\n",
       " 0.0,\n",
       " 0.0,\n",
       " 0.0,\n",
       " 0.0,\n",
       " 0.0,\n",
       " 0.0,\n",
       " 0.81564245810055869,\n",
       " 0.85585585585585588)"
      ]
     },
     "execution_count": 134,
     "metadata": {},
     "output_type": "execute_result"
    }
   ],
   "source": [
    "# Report results\n",
    "get_metrics(svm_model, train, validation, fields=['label', 'features', 'rawPrediction', 'prediction'])"
   ]
  },
  {
   "cell_type": "markdown",
   "metadata": {},
   "source": [
    "### GBT Classifier (Gradient Boosted Trees)"
   ]
  },
  {
   "cell_type": "code",
   "execution_count": 124,
   "metadata": {},
   "outputs": [],
   "source": [
    "gbt =  GBTClassifier()\n",
    "paramGrid = ParamGridBuilder() \\\n",
    "    .addGrid(gbt.maxIter,[3, 10]) \\\n",
    "    .addGrid(gbt.maxDepth,[2, 5, 10]) \\\n",
    "    .build()\n",
    "\n",
    "gbt_crossval = CrossValidator(estimator=gbt,\n",
    "                          estimatorParamMaps=paramGrid,\n",
    "                          evaluator=MulticlassClassificationEvaluator(),\n",
    "                          numFolds=3)\n",
    "gbt_model = gbt_crossval.fit(train)"
   ]
  },
  {
   "cell_type": "code",
   "execution_count": 125,
   "metadata": {},
   "outputs": [
    {
     "data": {
      "text/plain": [
       "[0.7874424925090457,\n",
       " 0.8684023968498964,\n",
       " 0.8907479357938564,\n",
       " 0.8394952649526444,\n",
       " 0.8868338214224705,\n",
       " 0.8907479357938564]"
      ]
     },
     "execution_count": 125,
     "metadata": {},
     "output_type": "execute_result"
    }
   ],
   "source": [
    "# Get the key metrics\n",
    "gbt_model.avgMetrics"
   ]
  },
  {
   "cell_type": "code",
   "execution_count": 127,
   "metadata": {},
   "outputs": [],
   "source": [
    "# Save the model\n",
    "gbt_model.save('gbt.model')"
   ]
  },
  {
   "cell_type": "code",
   "execution_count": 128,
   "metadata": {},
   "outputs": [
    {
     "name": "stdout",
     "output_type": "stream",
     "text": [
      "Area Under ROC (training): 1.0\n",
      "Area Under ROC (test): 0.9476973684210526\n",
      "F1 Score (training): 1.0\n",
      "F1 Score (test): 0.8571428571428572\n",
      "Precision (training): 1.0\n",
      "Precision (test): 0.7894736842105263\n",
      "Recall (training): 1.0\n",
      "Recall (test): 0.9375\n",
      "Accuracy (training): 1.0\n",
      "Accuracy (test): 0.954954954954955\n",
      "\n"
     ]
    },
    {
     "data": {
      "text/plain": [
       "(1.0,\n",
       " 0.9476973684210526,\n",
       " 1.0,\n",
       " 0.85714285714285721,\n",
       " 1.0,\n",
       " 0.78947368421052633,\n",
       " 1.0,\n",
       " 0.9375,\n",
       " 1.0,\n",
       " 0.95495495495495497)"
      ]
     },
     "execution_count": 128,
     "metadata": {},
     "output_type": "execute_result"
    }
   ],
   "source": [
    "# Report results\n",
    "get_metrics(gbt_model, train, validation)"
   ]
  },
  {
   "cell_type": "markdown",
   "metadata": {},
   "source": [
    "## Conclusion\n",
    "\n",
    "The GBT classifier produced the best results. An F1 score of 85.7 % was reached."
   ]
  },
  {
   "cell_type": "markdown",
   "metadata": {},
   "source": [
    "# Final Steps\n",
    "Clean up your code, adding comments and renaming variables to make the code easier to read and maintain. Refer to the Spark Project Overview page and Data Scientist Capstone Project Rubric to make sure you are including all components of the capstone project and meet all expectations. Remember, this includes thorough documentation in a README file in a Github repository, as well as a web app or blog post."
   ]
  },
  {
   "cell_type": "code",
   "execution_count": null,
   "metadata": {},
   "outputs": [],
   "source": []
  }
 ],
 "metadata": {
  "kernelspec": {
   "display_name": "Python 3",
   "language": "python",
   "name": "python3"
  },
  "language_info": {
   "codemirror_mode": {
    "name": "ipython",
    "version": 3
   },
   "file_extension": ".py",
   "mimetype": "text/x-python",
   "name": "python",
   "nbconvert_exporter": "python",
   "pygments_lexer": "ipython3",
   "version": "3.6.3"
  }
 },
 "nbformat": 4,
 "nbformat_minor": 2
}
